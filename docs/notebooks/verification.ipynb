{
 "cells": [
  {
   "cell_type": "markdown",
   "metadata": {},
   "source": [
    "## Verification of Model Forecast vs Observations (Measurements)"
   ]
  },
  {
   "cell_type": "markdown",
   "metadata": {},
   "source": [
    "More information can be found here:\n",
    "- https://opendatadocs.dmi.govcloud.dk/APIs/Meteorological_Observation_API\n",
    "- https://scores.readthedocs.io/en/stable/index.html"
   ]
  },
  {
   "cell_type": "code",
   "execution_count": null,
   "metadata": {},
   "outputs": [],
   "source": [
    "path_model = \"/users/sadamov/pyprojects/neural-lam/data/danra/single_levels.zarr\"\n",
    "url_model = \"https://mllam-test-data.s3.eu-north-1.amazonaws.com/single_levels.zarr\"\n",
    "vars_model = [\"u10\", \"v10\"]\n",
    "\n",
    "path_obs = \"/users/sadamov/pyprojects/neural-lam/data/danra/observations.zarr\"\n",
    "url_obs = \"https://dmigw.govcloud.dk/v2/metObs/collections/observation/items\"\n",
    "vars_obs = [\"wind_speed_past1h\", \"wind_dir_past1h\"]\n",
    "api_key = \"8dff599e-9a48-46eb-a166-72f2f722645e\""
   ]
  },
  {
   "cell_type": "code",
   "execution_count": null,
   "metadata": {},
   "outputs": [],
   "source": [
    "import requests\n",
    "import os\n",
    "import numpy as np\n",
    "import xarray as xr\n",
    "import geopandas as gpd\n",
    "import pandas as pd"
   ]
  },
  {
   "cell_type": "markdown",
   "metadata": {},
   "source": []
  },
  {
   "cell_type": "code",
   "execution_count": null,
   "metadata": {},
   "outputs": [],
   "source": [
    "if not os.path.exists(path_model):\n",
    "    ds_model = xr.open_zarr(url_model)\n",
    "    chunk_dict = {dim: -1 for dim in ds_model.dims if dim != \"time\"}\n",
    "    chunk_dict[\"time\"] = 20\n",
    "    ds_model = ds_model.chunk(chunk_dict)\n",
    "\n",
    "    for var in ds_model.variables:\n",
    "        if \"chunks\" in ds_model[var].encoding:\n",
    "            del ds_model[var].encoding[\"chunks\"]\n",
    "\n",
    "    ds_model.to_zarr(path_model, mode=\"w\")\n",
    "else:\n",
    "    ds_model = xr.open_zarr(path_model)"
   ]
  },
  {
   "cell_type": "code",
   "execution_count": null,
   "metadata": {},
   "outputs": [],
   "source": [
    "datetime_start = np.datetime_as_string(ds_model.time.values[0], unit=\"s\")\n",
    "datetime_end = np.datetime_as_string(ds_model.time.values[-1], unit=\"s\")\n",
    "datetime_range = f\"{datetime_start}Z/{datetime_end}Z\"\n",
    "datetime_range = \"2020-09-01T00:00:00Z/2020-09-13T09:00:00Z\"\n",
    "print(datetime_range)"
   ]
  },
  {
   "cell_type": "code",
   "execution_count": null,
   "metadata": {},
   "outputs": [],
   "source": [
    "# Initialize an empty dictionary to store DataFrames for each variable\n",
    "dfs = {}\n",
    "\n",
    "# Loop over each variable\n",
    "for var in vars_obs:\n",
    "    # Adjust the params for the current variable\n",
    "    params = {\n",
    "        \"api-key\": api_key,\n",
    "        \"datetime\": datetime_range,\n",
    "        \"parameterId\": var,\n",
    "    }\n",
    "\n",
    "    # Fetch the data\n",
    "    response = requests.get(url_obs, params=params)\n",
    "    data = response.json()\n",
    "\n",
    "    # Assuming 'data' is your GeoJSON object\n",
    "    gdf = gpd.GeoDataFrame.from_features(data[\"features\"])\n",
    "\n",
    "    # Convert 'observed' to datetime in UTC\n",
    "    gdf[\"time\"] = pd.to_datetime(gdf[\"observed\"], utc=True)\n",
    "\n",
    "    # Pivot the DataFrame\n",
    "    df_pivot = gdf.pivot(index=\"time\", columns=\"stationId\", values=\"value\")\n",
    "\n",
    "    # Store the pivoted DataFrame in the dictionary\n",
    "    dfs[var] = df_pivot\n",
    "\n",
    "# Get the time index from the first DataFrame and convert to numpy.datetime64\n",
    "time_index = dfs[vars_obs[0]].index.tz_convert(\n",
    "    None).to_numpy().astype('datetime64[ns]')\n",
    "\n",
    "# Combine the DataFrames into a single xarray Dataset\n",
    "ds_obs = xr.Dataset(\n",
    "    {var: ([\"time\", \"stationId\"], dfs[var].values) for var in vars_obs},\n",
    "    coords={\n",
    "        \"time\": time_index,\n",
    "        \"stationId\": dfs[vars_obs[0]].columns,\n",
    "        \"lat\": (\"stationId\", gdf.groupby(\"stationId\")[\"geometry\"].first().y),\n",
    "        \"lon\": (\"stationId\", gdf.groupby(\"stationId\")[\"geometry\"].first().x),\n",
    "    }\n",
    ")\n",
    "\n",
    "# Sort by time\n",
    "ds_obs = ds_obs.sortby(\"time\")\n",
    "ds_obs"
   ]
  },
  {
   "cell_type": "code",
   "execution_count": null,
   "metadata": {},
   "outputs": [],
   "source": [
    "ds_obs[\"u10\"] = ds_obs[\"wind_speed_past1h\"] * np.cos(\n",
    "    np.radians(90 - ds_obs[\"wind_dir_past1h\"])\n",
    ")\n",
    "ds_obs[\"v10\"] = ds_obs[\"wind_speed_past1h\"] * np.sin(\n",
    "    np.radians(90 - ds_obs[\"wind_dir_past1h\"])\n",
    ")"
   ]
  },
  {
   "cell_type": "code",
   "execution_count": null,
   "metadata": {},
   "outputs": [],
   "source": [
    "import matplotlib.pyplot as plt\n",
    "import cartopy.crs as ccrs\n",
    "import cartopy.feature as cfeature\n",
    "\n",
    "# Create a new figure with a specific projection\n",
    "fig, ax = plt.subplots(figsize=(12, 8), subplot_kw={'projection': ccrs.PlateCarree()})\n",
    "\n",
    "# Plot the scatter plot\n",
    "scatter = ax.scatter(ds_obs[\"lon\"], ds_obs[\"lat\"], c=ds_obs.isel(time=0)[\"u10\"], cmap=\"coolwarm\", transform=ccrs.PlateCarree())\n",
    "\n",
    "# Add coastlines\n",
    "ax.add_feature(cfeature.COASTLINE)\n",
    "\n",
    "# Add borders\n",
    "ax.add_feature(cfeature.BORDERS)\n",
    "\n",
    "# Add gridlines\n",
    "ax.gridlines(draw_labels=True)\n",
    "\n",
    "# Add colorbar\n",
    "plt.colorbar(scatter, label='u10')\n",
    "\n",
    "# Set the extent of the map (adjust these values based on your data)\n",
    "ax.set_extent([ds_obs[\"lon\"].min(), ds_obs[\"lon\"].max(), ds_obs[\"lat\"].min(), ds_obs[\"lat\"].max()])\n",
    "\n",
    "# Show the plot\n",
    "plt.title('U10 Wind Component')\n",
    "plt.show()"
   ]
  },
  {
   "cell_type": "code",
   "execution_count": null,
   "metadata": {},
   "outputs": [],
   "source": []
  }
 ],
 "metadata": {
  "kernelspec": {
   "display_name": "neural-lam",
   "language": "python",
   "name": "python3"
  },
  "language_info": {
   "codemirror_mode": {
    "name": "ipython",
    "version": 3
   },
   "file_extension": ".py",
   "mimetype": "text/x-python",
   "name": "python",
   "nbconvert_exporter": "python",
   "pygments_lexer": "ipython3",
   "version": "3.12.3"
  }
 },
 "nbformat": 4,
 "nbformat_minor": 2
}
